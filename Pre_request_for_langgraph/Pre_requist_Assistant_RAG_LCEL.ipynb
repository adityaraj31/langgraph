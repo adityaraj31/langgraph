{
 "cells": [
  {
   "cell_type": "code",
   "execution_count": 1,
   "id": "183fc22e",
   "metadata": {},
   "outputs": [
    {
     "data": {
      "text/plain": [
       "True"
      ]
     },
     "execution_count": 1,
     "metadata": {},
     "output_type": "execute_result"
    }
   ],
   "source": [
    "import os\n",
    "from dotenv import load_dotenv\n",
    "load_dotenv()"
   ]
  },
  {
   "cell_type": "code",
   "execution_count": 2,
   "id": "521f9ea1",
   "metadata": {},
   "outputs": [],
   "source": [
    "GOOGLE_API_KEY=os.getenv(\"GOOGLE_API_KEY\")\n",
    "TAVILY_API_KEY=os.getenv(\"TAVILY_API_KEY\")\n",
    "GROQ_API_KEY=os.getenv(\"GROQ_API_KEY\")\n",
    "LANGCHAIN_API_KEY=os.getenv(\"LANGCHAIN_API_KEY\")\n",
    "LANGCHAIN_PROJECT=os.getenv(\"LANGCHAIN_PROJECT\")"
   ]
  },
  {
   "cell_type": "code",
   "execution_count": 3,
   "id": "ffa5d058",
   "metadata": {},
   "outputs": [],
   "source": [
    "os.environ[\"GOOGLE_API_KEY\"] = GOOGLE_API_KEY\n",
    "os.environ[\"TAVILY_API_KEY\"] = TAVILY_API_KEY\n",
    "os.environ[\"GROQ_API_KEY\"]= GROQ_API_KEY\n",
    "os.environ[\"LANGCHAIN_API_KEY\"] = LANGCHAIN_API_KEY\n",
    "os.environ[\"LANGCHAIN_TRACING_V2\"] = \"true\"\n",
    "os.environ[\"LANGCHAIN_ENDPOINT\"] = \"https://api.smith.langchain.com\"\n",
    "os.environ[\"LANGCHAIN_PROJECT\"]=LANGCHAIN_PROJECT"
   ]
  },
  {
   "cell_type": "code",
   "execution_count": 4,
   "id": "c9c7c0b1",
   "metadata": {},
   "outputs": [
    {
     "name": "stderr",
     "output_type": "stream",
     "text": [
      "USER_AGENT environment variable not set, consider setting it to identify your requests.\n"
     ]
    }
   ],
   "source": [
    "from langchain.text_splitter import RecursiveCharacterTextSplitter\n",
    "from langchain_community.document_loaders import WebBaseLoader\n",
    "from langchain_community.vectorstores import Chroma"
   ]
  },
  {
   "cell_type": "code",
   "execution_count": 5,
   "id": "7c32edc2",
   "metadata": {},
   "outputs": [
    {
     "data": {
      "text/plain": [
       "'from langchain_google_genai import ChatGoogleGenerativeAI\\nllm = ChatGoogleGenerativeAI(model=\"gemini-1.0-pro\")'"
      ]
     },
     "execution_count": 5,
     "metadata": {},
     "output_type": "execute_result"
    }
   ],
   "source": [
    "from langchain_google_genai import GoogleGenerativeAIEmbeddings\n",
    "embeddings = GoogleGenerativeAIEmbeddings(model=\"models/embedding-001\")\n",
    "'''from langchain_google_genai import ChatGoogleGenerativeAI\n",
    "llm = ChatGoogleGenerativeAI(model=\"gemini-1.0-pro\")'''"
   ]
  },
  {
   "cell_type": "code",
   "execution_count": 6,
   "id": "f747ad16",
   "metadata": {},
   "outputs": [],
   "source": [
    "'''from langchain_huggingface import HuggingFaceEmbeddings\n",
    "embeddings=HuggingFaceEmbeddings(model_name=\"all-MiniLM-L6-v2\")'''\n",
    "from langchain_groq import ChatGroq\n",
    "llm = ChatGroq(model_name=\"llama-3.1-8b-instant\")"
   ]
  },
  {
   "cell_type": "markdown",
   "id": "e3d529fa",
   "metadata": {},
   "source": [
    "## Simple AI Assistant"
   ]
  },
  {
   "cell_type": "code",
   "execution_count": 7,
   "id": "fe8baa20",
   "metadata": {},
   "outputs": [
    {
     "name": "stdout",
     "output_type": "stream",
     "text": [
      "Hello. How can I assist you today?\n",
      "goodbye take care yourself\n"
     ]
    }
   ],
   "source": [
    "while True:\n",
    "    question=input(\"type your question. if you want to quit the chat write quit\")\n",
    "    if question !=\"quit\":\n",
    "        print(llm.invoke(question).content)\n",
    "    else:\n",
    "        print(\"goodbye take care yourself\")\n",
    "        break"
   ]
  },
  {
   "cell_type": "code",
   "execution_count": 8,
   "id": "91e7d564",
   "metadata": {},
   "outputs": [],
   "source": [
    "from langchain_core.chat_history import BaseChatMessageHistory\n",
    "from langchain_core.chat_history import InMemoryChatMessageHistory\n",
    "from langchain_core.runnables.history import RunnableWithMessageHistory\n",
    "from langchain_core.messages import AIMessage"
   ]
  },
  {
   "cell_type": "code",
   "execution_count": 9,
   "id": "4e1f7478",
   "metadata": {},
   "outputs": [],
   "source": [
    "store={}"
   ]
  },
  {
   "cell_type": "code",
   "execution_count": 10,
   "id": "c2fe78c4",
   "metadata": {},
   "outputs": [],
   "source": [
    "def get_session_history(session_id: str) -> BaseChatMessageHistory:\n",
    "    if session_id not in store:\n",
    "        store[session_id] = InMemoryChatMessageHistory()\n",
    "    return store[session_id]"
   ]
  },
  {
   "cell_type": "code",
   "execution_count": 11,
   "id": "e502fca9",
   "metadata": {},
   "outputs": [],
   "source": [
    "config = {\"configurable\": {\"session_id\": \"firstchat\"}}"
   ]
  },
  {
   "cell_type": "code",
   "execution_count": 12,
   "id": "3729f5ac",
   "metadata": {},
   "outputs": [],
   "source": [
    "model_with_memory=RunnableWithMessageHistory(llm,get_session_history)"
   ]
  },
  {
   "cell_type": "code",
   "execution_count": 13,
   "id": "a36e5e2a",
   "metadata": {},
   "outputs": [
    {
     "data": {
      "text/plain": [
       "\"Hello Aditya, it's nice to meet you. Is there something I can help you with, or would you like to chat?\""
      ]
     },
     "execution_count": 13,
     "metadata": {},
     "output_type": "execute_result"
    }
   ],
   "source": [
    "model_with_memory.invoke((\"Hi! I'm aditya\"),config=config).content"
   ]
  },
  {
   "cell_type": "code",
   "execution_count": 14,
   "id": "071e70b7",
   "metadata": {},
   "outputs": [
    {
     "data": {
      "text/plain": [
       "'Your name is Aditya.'"
      ]
     },
     "execution_count": 14,
     "metadata": {},
     "output_type": "execute_result"
    }
   ],
   "source": [
    "model_with_memory.invoke((\"tell me what is my name?\"),config=config).content"
   ]
  },
  {
   "cell_type": "code",
   "execution_count": 15,
   "id": "8009965a",
   "metadata": {},
   "outputs": [],
   "source": [
    "from langchain_community.document_loaders import TextLoader, DirectoryLoader\n",
    "from langchain.text_splitter import RecursiveCharacterTextSplitter\n",
    "from langchain_community.vectorstores import Chroma\n",
    "from langchain import PromptTemplate\n",
    "from langchain_core.runnables import RunnableParallel, RunnablePassthrough , RunnableLambda\n",
    "from langchain_core.output_parsers import StrOutputParser\n",
    "\n",
    "### Reading the txt files from source directory\n",
    "\n",
    "loader = DirectoryLoader('../data', glob=\"./*.txt\", loader_cls=TextLoader)\n",
    "docs = loader.load()\n",
    "\n",
    "### Creating Chunks using RecursiveCharacterTextSplitter\n",
    "\n",
    "text_splitter = RecursiveCharacterTextSplitter(\n",
    "    chunk_size=50,\n",
    "    chunk_overlap=10,\n",
    "    length_function=len\n",
    ")\n",
    "new_docs = text_splitter.split_documents(documents=docs)\n",
    "doc_strings = [doc.page_content for doc in new_docs]\n",
    "\n",
    "###  BGE Embddings\n",
    "\n",
    "'''from langchain.embeddings import HuggingFaceBgeEmbeddings\n",
    "\n",
    "model_name = \"BAAI/bge-base-en-v1.5\"\n",
    "model_kwargs = {'device': 'cpu'}\n",
    "encode_kwargs = {'normalize_embeddings': True} # set True to compute cosine similarity\n",
    "embeddings = HuggingFaceBgeEmbeddings(\n",
    "    model_name=model_name,\n",
    "    model_kwargs=model_kwargs,\n",
    "    encode_kwargs=encode_kwargs,\n",
    ")\n",
    "'''\n",
    "\n",
    "### Creating Retriever using Vector DB\n",
    "\n",
    "db = Chroma.from_documents(new_docs, embeddings)\n",
    "retriever = db.as_retriever(search_kwargs={\"k\": 4})"
   ]
  },
  {
   "cell_type": "code",
   "execution_count": 16,
   "id": "5113ad39",
   "metadata": {},
   "outputs": [],
   "source": [
    "template = \"\"\"Answer the question based only on the following context:\n",
    "{context}\n",
    "\n",
    "Question: {question}\n",
    "\"\"\"\n",
    "prompt = PromptTemplate.from_template(template)"
   ]
  },
  {
   "cell_type": "code",
   "execution_count": 17,
   "id": "d5b1c757",
   "metadata": {},
   "outputs": [],
   "source": [
    "retrieval_chain = (\n",
    "    RunnableParallel({\"context\": retriever, \"question\": RunnablePassthrough()})\n",
    "    | prompt\n",
    "    | llm\n",
    "    | StrOutputParser()\n",
    "    )"
   ]
  },
  {
   "cell_type": "code",
   "execution_count": 18,
   "id": "13223df5",
   "metadata": {},
   "outputs": [
    {
     "name": "stdout",
     "output_type": "stream",
     "text": [
      "Based on the provided context, here's the information about Llama 3:\n",
      "\n",
      "Llama 3 is a model version. \n",
      "\n",
      "Three important points about Llama 3 are:\n",
      "\n",
      "1. **Parameter version**: The provided text mentions the \"8B parameter version\" of Llama 3, which suggests that it has a specific number of parameters, in this case, 8 billion.\n",
      "\n",
      "2. **Release date**: Llama 3 was released in April 2024, as per the given context.\n",
      "\n",
      "3. **Usage**: The information states that both services (presumably AI-powered services) use a Llama 3 model, indicating its potential applications and widespread adoption.\n"
     ]
    }
   ],
   "source": [
    "question =\"what is llama3? can you highlight 3 important points?\"\n",
    "print(retrieval_chain.invoke(question))"
   ]
  },
  {
   "cell_type": "markdown",
   "id": "efed8140",
   "metadata": {},
   "source": [
    "## Let's Start with Tools and Agents"
   ]
  },
  {
   "cell_type": "code",
   "execution_count": 19,
   "id": "0b012a4c",
   "metadata": {},
   "outputs": [],
   "source": [
    "from langchain_community.tools import WikipediaQueryRun\n",
    "from langchain_community.utilities import WikipediaAPIWrapper"
   ]
  },
  {
   "cell_type": "code",
   "execution_count": 20,
   "id": "585dd814",
   "metadata": {},
   "outputs": [],
   "source": [
    "api_wrapper=WikipediaAPIWrapper()"
   ]
  },
  {
   "cell_type": "code",
   "execution_count": 21,
   "id": "6ffbc915",
   "metadata": {},
   "outputs": [],
   "source": [
    "tool=WikipediaQueryRun(api_wrapper=api_wrapper)"
   ]
  },
  {
   "cell_type": "code",
   "execution_count": 22,
   "id": "ecd57af8",
   "metadata": {},
   "outputs": [
    {
     "data": {
      "text/plain": [
       "'wikipedia'"
      ]
     },
     "execution_count": 22,
     "metadata": {},
     "output_type": "execute_result"
    }
   ],
   "source": [
    "tool.name"
   ]
  },
  {
   "cell_type": "code",
   "execution_count": 23,
   "id": "13d85719",
   "metadata": {},
   "outputs": [
    {
     "data": {
      "text/plain": [
       "'A wrapper around Wikipedia. Useful for when you need to answer general questions about people, places, companies, facts, historical events, or other subjects. Input should be a search query.'"
      ]
     },
     "execution_count": 23,
     "metadata": {},
     "output_type": "execute_result"
    }
   ],
   "source": [
    "tool.description"
   ]
  },
  {
   "cell_type": "code",
   "execution_count": 24,
   "id": "b3632dba",
   "metadata": {},
   "outputs": [
    {
     "data": {
      "text/plain": [
       "{'query': {'description': 'query to look up on wikipedia',\n",
       "  'title': 'Query',\n",
       "  'type': 'string'}}"
      ]
     },
     "execution_count": 24,
     "metadata": {},
     "output_type": "execute_result"
    }
   ],
   "source": [
    "tool.args"
   ]
  },
  {
   "cell_type": "code",
   "execution_count": 25,
   "id": "e065668b",
   "metadata": {},
   "outputs": [
    {
     "name": "stdout",
     "output_type": "stream",
     "text": [
      "Page: LangChain\n",
      "Summary: LangChain is a software framework that helps facilitate the integration of large language models (LLMs) into applications. As a language model integration framework, LangChain's use-cases largely overlap with those of language models in general, including document analysis and summarization, chatbots, and code analysis.\n",
      "\n",
      "\n",
      "\n",
      "Page: Model Context Protocol\n",
      "Summary: The Model Context Protocol (MCP) is an open standard, open-source framework introduced by Anthropic in November 2024 to standardize the way artificial intelligence (AI) systems like large language models (LLMs) integrate and share data with external tools, systems, and data sources. MCP provides a universal interface for reading files, executing functions, and handling contextual prompts. Following its announcement, the protocol was adopted by major AI providers, including OpenAI and Google DeepMind.\n",
      "\n",
      "\n",
      "\n",
      "Page: Retrieval-augmented generation\n",
      "Summary: Retrieval-augmented generation (RAG) is a technique that enables large language models (LLMs) to retrieve and incorporate new information. With RAG, LLMs do not respond to user queries until they refer to a specified set of documents. These documents supplement information from the LLM's pre-existing training data. This allows LLMs to use domain-specific and/or updated information that is not available in the training data. For example, this helps LLM-based chatbots access internal company data or generate responses based on authoritative sources.\n",
      "RAG improves large language models (LLMs) by incorporating information retrieval before generating responses. Unlike traditional LLMs that rely on static training data, RAG pulls relevant text from databases, uploaded documents, or web sources. According to Ars Technica, \"RAG is a way of improving LLM performance, in essence by blending the LLM process with a web search or other document look-up process to help LLMs stick to the facts.\" This method helps reduce AI hallucinations, which have caused chatbots to describe policies that don't exist, or recommend nonexistent legal cases to lawyers that are looking for citations to support their arguments.\n",
      "RAG also reduces the need to retrain LLMs with new data, saving on computational and financial costs. Beyond efficiency gains, RAG also allows LLMs to include sources in their responses, so users can verify the cited sources. This provides greater transparency, as users can cross-check retrieved content to ensure accuracy and relevance.\n",
      "The term RAG was first introduced in a 2020 research paper from Meta.\n"
     ]
    }
   ],
   "source": [
    "print(tool.run({\"query\": \"langchain\"}))"
   ]
  },
  {
   "cell_type": "code",
   "execution_count": 30,
   "id": "6d596d83",
   "metadata": {},
   "outputs": [],
   "source": [
    "from langchain_community.tools import YouTubeSearchTool"
   ]
  },
  {
   "cell_type": "code",
   "execution_count": 31,
   "id": "73b8cff2",
   "metadata": {},
   "outputs": [],
   "source": [
    "tool2=YouTubeSearchTool()"
   ]
  },
  {
   "cell_type": "code",
   "execution_count": 32,
   "id": "ddb0bf40",
   "metadata": {},
   "outputs": [
    {
     "data": {
      "text/plain": [
       "'youtube_search'"
      ]
     },
     "execution_count": 32,
     "metadata": {},
     "output_type": "execute_result"
    }
   ],
   "source": [
    "tool2.name"
   ]
  },
  {
   "cell_type": "code",
   "execution_count": 33,
   "id": "068d4d9f",
   "metadata": {},
   "outputs": [
    {
     "data": {
      "text/plain": [
       "\"['https://www.youtube.com/watch?v=_kpxLkH5vY0&pp=ygUMc3Vubnkgc2F2aXRh0gcJCdgJAYcqIYzv', 'https://www.youtube.com/watch?v=SPNaP4ik9a4&pp=ygUMc3Vubnkgc2F2aXRh']\""
      ]
     },
     "execution_count": 33,
     "metadata": {},
     "output_type": "execute_result"
    }
   ],
   "source": [
    "tool2.run(\"sunny savita\")"
   ]
  },
  {
   "cell_type": "code",
   "execution_count": 34,
   "id": "c4823ee3",
   "metadata": {},
   "outputs": [],
   "source": [
    "from langchain_community.tools.tavily_search import TavilySearchResults"
   ]
  },
  {
   "cell_type": "code",
   "execution_count": 35,
   "id": "92a0b03f",
   "metadata": {},
   "outputs": [
    {
     "name": "stderr",
     "output_type": "stream",
     "text": [
      "C:\\Users\\91827\\AppData\\Local\\Temp\\ipykernel_13932\\140006202.py:1: LangChainDeprecationWarning: The class `TavilySearchResults` was deprecated in LangChain 0.3.25 and will be removed in 1.0. An updated version of the class exists in the :class:`~langchain-tavily package and should be used instead. To use it run `pip install -U :class:`~langchain-tavily` and import as `from :class:`~langchain_tavily import TavilySearch``.\n",
      "  tool3=TavilySearchResults()\n"
     ]
    }
   ],
   "source": [
    "tool3=TavilySearchResults()"
   ]
  },
  {
   "cell_type": "code",
   "execution_count": 37,
   "id": "4d9c48a5",
   "metadata": {},
   "outputs": [
    {
     "data": {
      "text/plain": [
       "[{'title': 'Burning Man flooding: What happened to stranded festivalgoers?',\n",
       "  'url': 'https://abcnews.go.com/US/burning-man-flooding-happened-stranded-festivalgoers/story?id=102908331',\n",
       "  'content': '## ABC News\\n\\n## Live\\n\\n## Video\\n\\n## Shows\\n\\n## Shop\\n\\n## Stream on\\n\\nhulu\\n\\n# Burning Man flooding: What happened to stranded festivalgoers?\\n\\nSome 64,000 people were still on site Monday as the exodus began.\\n\\nTens of thousands of Burning Man attendees are now able to leave the festival after a downpour and massive flooding left them stranded over the weekend. [...] The festival, held in the Black Rock Desert in northwestern Nevada, was attended by more than 70,000 people last year, and just as many were expected this year. Burning Man began on Aug. 28 and was scheduled to run through Sept. 4.\\n\\nOne person died at the festival amid the unusual weather conditions, the Pershing County Sheriff\\'s Office confirmed Sunday morning in a statement. The death is under investigation. [...] Organizers lifted a driving ban as of 2 p.m. local time Monday, allowing \"exodus operations\" to begin, organizers said. They are, however, recommending that people delay their departures until Tuesday to avoid getting stuck in the mud.\\n\\nApproximately 64,000 people remain on site as of midday Monday, organizers said.\\n\\n## What happened?\\n\\nBlack Rock Desert was faced with two to three months worth of rain in just a matter of hours on Friday, Sept. 1.',\n",
       "  'score': 0.7067782},\n",
       " {'title': 'Burning Man - latest news, breaking stories and comment',\n",
       "  'url': 'https://www.the-independent.com/topic/burning-man',\n",
       "  'content': 'Burning Man releases details about death of man at festival · News · Burning Man revellers build mud sculptures after severe flooding · News · Chris Rock and',\n",
       "  'score': 0.4866005},\n",
       " {'title': 'Tomorrow Today Together | Burning Man Journal',\n",
       "  'url': 'https://journal.burningman.org/2025/01/news/global-news/tomorrow-today-together/',\n",
       "  'content': 'When we saw lower ticket demand last June, we immediately cut discretionary spending. We stopped all fixed asset improvements, paused new projects and limited travel. Seasonal hiring was slowed, and in July all department heads were directed to reduce all expenses. After the Burning Man event, we had a formal reduction in force (RIF), reducing headcount by 10%. We renegotiated key contracts and cut expenses throughout the organization. [...] Looking back, the burn in 2024 was damn good, especially after two challenging years of difficult weather. The vibe was great and morale remained sky-high throughout the week, sunrises and sunsets were spectacular and it was bookended by smooth ingress and egress that led to making Black Rock City rock on all levels. [...] Today, Burning Man Project CEO Marian Goodell emailed the latest update to the Burning Man community — it contains information about adapting to 2024 financial challenges, expresses deep gratitude for the community, and looks forward with excitement to the best Burning Man ever in 2025, enhanced by streamlined process and a new pay-it-forward ticket model. We’ve shared it here in its entirety. Please give it a read and help us keep Burning Man alive!\\n\\nHello friends and community members,',\n",
       "  'score': 0.47329262},\n",
       " {'title': 'Burning Man flooding strands tens of thousands at Nevada site',\n",
       "  'url': 'https://apnews.com/article/burning-man-festival-flooding-entrance-closed-d6cd88ee009c6e1f6d2d92739ec1ca18',\n",
       "  'content': 'An unusual late-summer storm turned a week-long counterculture fest into a sloppy mess with tens of thousands of partygoers stuck in foot-deep mud and with no',\n",
       "  'score': 0.39789218},\n",
       " {'title': 'After Two Disastrous Years, Burning Man Faces a $14 Million ... - MSN',\n",
       "  'url': 'https://www.msn.com/en-us/money/companies/after-two-disastrous-years-burning-man-faces-a-14-million-shortfall-for-2025/ar-AA1wckUT',\n",
       "  'content': \"Now organizers report a $14 million shortfall for Burning Man 2025 and they're seeking donations to make it happen.\",\n",
       "  'score': 0.16297895}]"
      ]
     },
     "execution_count": 37,
     "metadata": {},
     "output_type": "execute_result"
    }
   ],
   "source": [
    "tool3.invoke({\"query\": \"What happened in the latest burning man floods\"})"
   ]
  },
  {
   "cell_type": "code",
   "execution_count": 38,
   "id": "e52b0dfa",
   "metadata": {},
   "outputs": [],
   "source": [
    "from langchain.agents import AgentType\n",
    "from langchain.agents import load_tools \n",
    "from langchain.agents import initialize_agent"
   ]
  },
  {
   "cell_type": "code",
   "execution_count": null,
   "id": "90e4019f",
   "metadata": {},
   "outputs": [
    {
     "ename": "TypeError",
     "evalue": "unhashable type: 'TavilySearchResults'",
     "output_type": "error",
     "traceback": [
      "\u001b[31m---------------------------------------------------------------------------\u001b[39m",
      "\u001b[31mTypeError\u001b[39m                                 Traceback (most recent call last)",
      "\u001b[36mCell\u001b[39m\u001b[36m \u001b[39m\u001b[32mIn[42]\u001b[39m\u001b[32m, line 1\u001b[39m\n\u001b[32m----> \u001b[39m\u001b[32m1\u001b[39m tool=\u001b[43mload_tools\u001b[49m\u001b[43m(\u001b[49m\u001b[43m[\u001b[49m\u001b[43mtool3\u001b[49m\u001b[43m]\u001b[49m\u001b[43m,\u001b[49m\u001b[43mllm\u001b[49m\u001b[43m=\u001b[49m\u001b[43mllm\u001b[49m\u001b[43m)\u001b[49m\n",
      "\u001b[36mFile \u001b[39m\u001b[32mc:\\Users\\91827\\AppData\\Local\\Programs\\Python\\Python312\\Lib\\site-packages\\langchain_community\\agent_toolkits\\load_tools.py:712\u001b[39m, in \u001b[36mload_tools\u001b[39m\u001b[34m(tool_names, llm, callbacks, allow_dangerous_tools, **kwargs)\u001b[39m\n\u001b[32m    708\u001b[39m callbacks = _handle_callbacks(\n\u001b[32m    709\u001b[39m     callback_manager=kwargs.get(\u001b[33m\"\u001b[39m\u001b[33mcallback_manager\u001b[39m\u001b[33m\"\u001b[39m), callbacks=callbacks\n\u001b[32m    710\u001b[39m )\n\u001b[32m    711\u001b[39m \u001b[38;5;28;01mfor\u001b[39;00m name \u001b[38;5;129;01min\u001b[39;00m tool_names:\n\u001b[32m--> \u001b[39m\u001b[32m712\u001b[39m     \u001b[38;5;28;01mif\u001b[39;00m \u001b[43mname\u001b[49m\u001b[43m \u001b[49m\u001b[38;5;129;43;01min\u001b[39;49;00m\u001b[43m \u001b[49m\u001b[43mDANGEROUS_TOOLS\u001b[49m \u001b[38;5;129;01mand\u001b[39;00m \u001b[38;5;129;01mnot\u001b[39;00m allow_dangerous_tools:\n\u001b[32m    713\u001b[39m         raise_dangerous_tools_exception(name)\n\u001b[32m    715\u001b[39m     \u001b[38;5;28;01mif\u001b[39;00m name \u001b[38;5;129;01min\u001b[39;00m {\u001b[33m\"\u001b[39m\u001b[33mrequests\u001b[39m\u001b[33m\"\u001b[39m}:\n",
      "\u001b[31mTypeError\u001b[39m: unhashable type: 'TavilySearchResults'"
     ]
    }
   ],
   "source": [
    "tool=load_tools([\"wikipedia\"],llm=llm)"
   ]
  },
  {
   "cell_type": "code",
   "execution_count": 40,
   "id": "c9ed1770",
   "metadata": {},
   "outputs": [
    {
     "name": "stderr",
     "output_type": "stream",
     "text": [
      "C:\\Users\\91827\\AppData\\Local\\Temp\\ipykernel_13932\\2645007812.py:1: LangChainDeprecationWarning: LangChain agents will continue to be supported, but it is recommended for new use cases to be built with LangGraph. LangGraph offers a more flexible and full-featured framework for building agents, including support for tool-calling, persistence of state, and human-in-the-loop workflows. For details, refer to the `LangGraph documentation <https://langchain-ai.github.io/langgraph/>`_ as well as guides for `Migrating from AgentExecutor <https://python.langchain.com/docs/how_to/migrate_agent/>`_ and LangGraph's `Pre-built ReAct agent <https://langchain-ai.github.io/langgraph/how-tos/create-react-agent/>`_.\n",
      "  agent=initialize_agent(tool,llm,agent=AgentType.ZERO_SHOT_REACT_DESCRIPTION,verbose=True)\n"
     ]
    }
   ],
   "source": [
    "agent=initialize_agent(tool,llm,agent=AgentType.ZERO_SHOT_REACT_DESCRIPTION,verbose=True)"
   ]
  },
  {
   "cell_type": "code",
   "execution_count": null,
   "id": "30070853",
   "metadata": {},
   "outputs": [
    {
     "name": "stdout",
     "output_type": "stream",
     "text": [
      "\n",
      "\n",
      "\u001b[1m> Entering new AgentExecutor chain...\u001b[0m\n",
      "\u001b[32;1m\u001b[1;3mThought: I need to find the current GDP of India, which might involve finding the current year and the GDP data for that year.\n",
      "Action: wikipedia\n",
      "Action Input: current GDP of India\u001b[0m\n",
      "Observation: \u001b[36;1m\u001b[1;3mPage: List of Indian states and union territories by GDP\n",
      "Summary: These are lists of Indian states and union territories by their nominal gross state domestic product (GSDP). GSDP is the sum of all value added by industries within each state or union territory and serves as a counterpart to the national gross domestic product (GDP). As of 2011, the Government accounted for about 21% of the GDP followed by agriculture with 21% and corporate sector at 12%. The remaining 48% is sourced from small proprietorship and partnership companies, unorganized sector and households.\n",
      "\n",
      "Page: List of countries by GDP (PPP)\n",
      "Summary: GDP (PPP) means gross domestic product based on purchasing power parity.  \n",
      "This article includes a list of countries by their forecast estimated GDP (PPP). Countries are sorted by GDP (PPP) forecast estimates from financial and statistical institutions that calculate using market or government official exchange rates. The data given on this page are based on the international dollar, a standardized unit used by economists. Certain regions that are not widely considered countries such as Hong Kong also show up in the list if they are distinct jurisdiction areas or economic entities.  \n",
      "GDP comparisons using PPP are arguably more useful than those using nominal GDP when assessing the domestic market of a state because PPP takes into account the relative cost of local goods, services and inflation rates of the country, rather than using international market exchange rates, which may distort the real differences in per capita income. For example, while the nominal GDP ranks of Germany and India are third and fourth respectively, when adjusted for PPP Germany's GDP drops to sixth and India rises to third because the local cost of goods in India is lower, and thus same nominal amount of money can buy more goods and services in India.\n",
      "GDP adjusted for PPP, however, is limited when measuring financial flows between countries and when comparing the quality of same goods among countries. PPP is often used to gauge global poverty thresholds and is used by the United Nations in constructing the Human Development Index. These surveys such as the International Comparison Program include both tradable and non-tradable goods in an attempt to estimate a representative basket of all goods.\n",
      "The first set of data on the left columns of the table includes estimates for the year 2023 made for each economy of the 196 economies (189 U.N. member states and 7 areas of Aruba, Hong Kong, Kosovo, Macau, Palestine, Puerto Rico, and Taiwan) covered by the International Monetary Fund (IMF)'s International Financial Statistics (IFS) database. The data is in millions of international dollars and was calculated and published by the IMF in October 2023. The second table includes data, mostly for the year 2022, for 180 of the 193 current United Nations member states as well as Hong Kong and Macau (the two Chinese Special Administrative Regions). Data are in millions of international dollars; they were compiled by the World Bank. The third table is a tabulation of the CIA World Factbook GDP (PPP) data update of 2019. The data for GDP at purchasing power parity has also been rebased using the new International Comparison Program price surveys and extrapolated to 2007. Non-sovereign entities (the world, continents, and some dependent territories) and states with limited recognition (such as Kosovo, Palestine and Taiwan) are included in the list in cases in which they appear in the sources. These economies are not ranked in the charts here, but are listed in sequence by GDP for comparison. In addition, non-sovereign entities are marked in  yellow .\n",
      "\n",
      "\n",
      "\n",
      "Page: List of countries by GDP (nominal)\n",
      "Summary: Gross domestic product (GDP) is the market value of all final goods and services from a nation in a given year. Countries are sorted by nominal GDP estimates from financial and statistical institutions, which are calculated at market or government official exch\u001b[0m\n",
      "Thought:\u001b[32;1m\u001b[1;3mQuestion: What is current GDP of India?\n",
      "Thought: I need to find the current GDP of India, which might involve finding the current year and the GDP data for that year. It seems the information I had earlier is not sufficient.\n",
      "Action: wikipedia\n",
      "Action Input: Current GDP of India 2023\u001b[0m\n",
      "Observation: \u001b[36;1m\u001b[1;3mPage: List of Indian states and union territories by GDP\n",
      "Summary: These are lists of Indian states and union territories by their nominal gross state domestic product (GSDP). GSDP is the sum of all value added by industries within each state or union territory and serves as a counterpart to the national gross domestic product (GDP). As of 2011, the Government accounted for about 21% of the GDP followed by agriculture with 21% and corporate sector at 12%. The remaining 48% is sourced from small proprietorship and partnership companies, unorganized sector and households.\n",
      "\n",
      "Page: List of countries by GDP (PPP)\n",
      "Summary: GDP (PPP) means gross domestic product based on purchasing power parity.  \n",
      "This article includes a list of countries by their forecast estimated GDP (PPP). Countries are sorted by GDP (PPP) forecast estimates from financial and statistical institutions that calculate using market or government official exchange rates. The data given on this page are based on the international dollar, a standardized unit used by economists. Certain regions that are not widely considered countries such as Hong Kong also show up in the list if they are distinct jurisdiction areas or economic entities.  \n",
      "GDP comparisons using PPP are arguably more useful than those using nominal GDP when assessing the domestic market of a state because PPP takes into account the relative cost of local goods, services and inflation rates of the country, rather than using international market exchange rates, which may distort the real differences in per capita income. For example, while the nominal GDP ranks of Germany and India are third and fourth respectively, when adjusted for PPP Germany's GDP drops to sixth and India rises to third because the local cost of goods in India is lower, and thus same nominal amount of money can buy more goods and services in India.\n",
      "GDP adjusted for PPP, however, is limited when measuring financial flows between countries and when comparing the quality of same goods among countries. PPP is often used to gauge global poverty thresholds and is used by the United Nations in constructing the Human Development Index. These surveys such as the International Comparison Program include both tradable and non-tradable goods in an attempt to estimate a representative basket of all goods.\n",
      "The first set of data on the left columns of the table includes estimates for the year 2023 made for each economy of the 196 economies (189 U.N. member states and 7 areas of Aruba, Hong Kong, Kosovo, Macau, Palestine, Puerto Rico, and Taiwan) covered by the International Monetary Fund (IMF)'s International Financial Statistics (IFS) database. The data is in millions of international dollars and was calculated and published by the IMF in October 2023. The second table includes data, mostly for the year 2022, for 180 of the 193 current United Nations member states as well as Hong Kong and Macau (the two Chinese Special Administrative Regions). Data are in millions of international dollars; they were compiled by the World Bank. The third table is a tabulation of the CIA World Factbook GDP (PPP) data update of 2019. The data for GDP at purchasing power parity has also been rebased using the new International Comparison Program price surveys and extrapolated to 2007. Non-sovereign entities (the world, continents, and some dependent territories) and states with limited recognition (such as Kosovo, Palestine and Taiwan) are included in the list in cases in which they appear in the sources. These economies are not ranked in the charts here, but are listed in sequence by GDP for comparison. In addition, non-sovereign entities are marked in  yellow .\n",
      "\n",
      "\n",
      "\n",
      "Page: Economy of India\n",
      "Summary: The economy of India is a developing mixed economy with a notable public sector in strategic sectors. It is the world's fourth-largest economy by nominal GDP and the third-largest by purchasing power parity (PPP); on a per capita income basis, India ranked 136th by GDP (nominal)\u001b[0m\n",
      "Thought:\u001b[32;1m\u001b[1;3mQuestion: What is current GDP of India?\n",
      "Thought: I need to find the current GDP of India, which might involve finding the current year and the GDP data for that year. It seems the information I had earlier is not sufficient.\n",
      "Action: wikipedia\n",
      "Action Input: current GDP of India 2023\u001b[0m\n",
      "Observation: \u001b[36;1m\u001b[1;3mPage: List of Indian states and union territories by GDP\n",
      "Summary: These are lists of Indian states and union territories by their nominal gross state domestic product (GSDP). GSDP is the sum of all value added by industries within each state or union territory and serves as a counterpart to the national gross domestic product (GDP). As of 2011, the Government accounted for about 21% of the GDP followed by agriculture with 21% and corporate sector at 12%. The remaining 48% is sourced from small proprietorship and partnership companies, unorganized sector and households.\n",
      "\n",
      "Page: List of countries by GDP (PPP)\n",
      "Summary: GDP (PPP) means gross domestic product based on purchasing power parity.  \n",
      "This article includes a list of countries by their forecast estimated GDP (PPP). Countries are sorted by GDP (PPP) forecast estimates from financial and statistical institutions that calculate using market or government official exchange rates. The data given on this page are based on the international dollar, a standardized unit used by economists. Certain regions that are not widely considered countries such as Hong Kong also show up in the list if they are distinct jurisdiction areas or economic entities.  \n",
      "GDP comparisons using PPP are arguably more useful than those using nominal GDP when assessing the domestic market of a state because PPP takes into account the relative cost of local goods, services and inflation rates of the country, rather than using international market exchange rates, which may distort the real differences in per capita income. For example, while the nominal GDP ranks of Germany and India are third and fourth respectively, when adjusted for PPP Germany's GDP drops to sixth and India rises to third because the local cost of goods in India is lower, and thus same nominal amount of money can buy more goods and services in India.\n",
      "GDP adjusted for PPP, however, is limited when measuring financial flows between countries and when comparing the quality of same goods among countries. PPP is often used to gauge global poverty thresholds and is used by the United Nations in constructing the Human Development Index. These surveys such as the International Comparison Program include both tradable and non-tradable goods in an attempt to estimate a representative basket of all goods.\n",
      "The first set of data on the left columns of the table includes estimates for the year 2023 made for each economy of the 196 economies (189 U.N. member states and 7 areas of Aruba, Hong Kong, Kosovo, Macau, Palestine, Puerto Rico, and Taiwan) covered by the International Monetary Fund (IMF)'s International Financial Statistics (IFS) database. The data is in millions of international dollars and was calculated and published by the IMF in October 2023. The second table includes data, mostly for the year 2022, for 180 of the 193 current United Nations member states as well as Hong Kong and Macau (the two Chinese Special Administrative Regions). Data are in millions of international dollars; they were compiled by the World Bank. The third table is a tabulation of the CIA World Factbook GDP (PPP) data update of 2019. The data for GDP at purchasing power parity has also been rebased using the new International Comparison Program price surveys and extrapolated to 2007. Non-sovereign entities (the world, continents, and some dependent territories) and states with limited recognition (such as Kosovo, Palestine and Taiwan) are included in the list in cases in which they appear in the sources. These economies are not ranked in the charts here, but are listed in sequence by GDP for comparison. In addition, non-sovereign entities are marked in  yellow .\n",
      "\n",
      "\n",
      "\n",
      "Page: Economy of India\n",
      "Summary: The economy of India is a developing mixed economy with a notable public sector in strategic sectors. It is the world's fourth-largest economy by nominal GDP and the third-largest by purchasing power parity (PPP); on a per capita income basis, India ranked 136th by GDP (nominal)\u001b[0m\n",
      "Thought:\u001b[32;1m\u001b[1;3mQuestion: What is current GDP of India?\n",
      "Thought: I need to find the current GDP of India, which might involve finding the current year and the GDP data for that year. It seems the information I had earlier is not sufficient.\n",
      "Action: wikipedia\n",
      "Action Input: India\u001b[0m"
     ]
    }
   ],
   "source": [
    "agent.run(\"What is current GDP of India?\")"
   ]
  }
 ],
 "metadata": {
  "kernelspec": {
   "display_name": "Python 3",
   "language": "python",
   "name": "python3"
  },
  "language_info": {
   "codemirror_mode": {
    "name": "ipython",
    "version": 3
   },
   "file_extension": ".py",
   "mimetype": "text/x-python",
   "name": "python",
   "nbconvert_exporter": "python",
   "pygments_lexer": "ipython3",
   "version": "3.12.4"
  }
 },
 "nbformat": 4,
 "nbformat_minor": 5
}
